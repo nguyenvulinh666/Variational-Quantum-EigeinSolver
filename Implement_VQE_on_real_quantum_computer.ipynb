{
  "cells": [
    {
      "attachments": {},
      "cell_type": "markdown",
      "metadata": {
        "id": "9MO5W7ffDB5x"
      },
      "source": []
    },
    {
      "cell_type": "code",
      "execution_count": 1,
      "metadata": {
        "id": "Rr8hh0DGDy1V"
      },
      "outputs": [],
      "source": [
        "from qiskit.circuit import Parameter\n",
        "from qiskit import QuantumCircuit\n",
        "\n",
        "def Customize_EfficientSU2(number_qubits, number_of_subcircuit):\n",
        "    \"\"\"\n",
        "    number_qubits: The amounts of qubits in out system\n",
        "    number_of_subcircuit: The amounts of subcuirt for parameterized our system\n",
        "    su2gate: is the gate we want to parameterized with\n",
        "    insert_barriers: add barriers in our circuit for nice looking\n",
        "    The function will return the circuit having the parameter and we can update these parameter in our code\n",
        "    \"\"\"\n",
        "    circuit = QuantumCircuit(number_qubits)\n",
        "\n",
        "\n",
        "    # Use for the 1-qubit case\n",
        "    if number_qubits == 1:\n",
        "        theta1 = Parameter(r'$\\theta[{}]$'.format(0))\n",
        "        circuit.ry(theta1, 0)\n",
        "        theta2 = Parameter(r'$\\theta[{}]$'.format(1))\n",
        "        circuit.rz(theta2, 0)\n",
        "        circuit.barrier()\n",
        "\n",
        "        for i in range(number_of_subcircuit):\n",
        "            theta1 = Parameter(r'$\\theta[{}]$'.format(2*i+2))\n",
        "            circuit.ry(theta1, 0)\n",
        "            theta2 = Parameter(r'$\\theta[{}]$'.format(2*i+3))\n",
        "            circuit.rz(theta2, 0)\n",
        "\n",
        "            if i != number_of_subcircuit - 1:\n",
        "                circuit.barrier()\n",
        "\n",
        "\n",
        "        return circuit\n",
        "\n",
        "\n",
        "    def add_subcircuit(circuit, stop_barrier):\n",
        "        sub_circuit = QuantumCircuit(number_qubits)\n",
        "        number_parameter = circuit.num_parameters\n",
        "\n",
        "        sub_circuit.barrier()\n",
        "\n",
        "        # sub_circuit.cx(number_qubits-1, 0)\n",
        "        for i in (range(number_qubits-1)):\n",
        "            sub_circuit.cx(i, i+1)\n",
        "\n",
        "        # sub_circuit.cx(number_qubits-1, 0)\n",
        "\n",
        "        sub_circuit.barrier()\n",
        "\n",
        "\n",
        "        # hmm cause of lack of my knowledge, I will work with the RealAmplitudes ansat, circular entanglement\n",
        "        for i in range(0, number_qubits):\n",
        "            theta = Parameter(r'$\\theta[{}]$'.format(number_parameter+i))\n",
        "            sub_circuit.ry(theta, i)\n",
        "        for i in range(0, number_qubits):\n",
        "            theta = Parameter(r'$\\theta[{}]$'.format(number_qubits+number_parameter+i))\n",
        "            sub_circuit.rz(theta, i)\n",
        "\n",
        "\n",
        "        # if stop_barrier != number_of_subcircuit-1:\n",
        "        #     sub_circuit.barrier()\n",
        "\n",
        "        # sub_circuit.draw('mpl', style = 'iqx')\n",
        "\n",
        "        return sub_circuit\n",
        "\n",
        "\n",
        "    for i in range(0, number_qubits):\n",
        "        theta = Parameter(r'$\\theta[{}]$'.format(i))\n",
        "        circuit.ry(theta, i)\n",
        "\n",
        "    for i in range(0, number_qubits):\n",
        "        theta = Parameter(r'$\\theta[{}]$'.format(number_qubits+i))\n",
        "        circuit.rz(theta, i)\n",
        "\n",
        "    for i in range(number_of_subcircuit):\n",
        "        circuit = circuit.compose(add_subcircuit(circuit, i))\n",
        "\n",
        "    return circuit\n",
        "\n",
        "\n",
        "def Customize_RealAmplidues(number_qubits, number_of_subcircuit):\n",
        "    \"\"\"\n",
        "    number_qubits: The amounts of qubits in out system\n",
        "    number_of_subcircuit: The amounts of subcuirt for parameterized our system\n",
        "    su2gate: is the gate we want to parameterized with\n",
        "    insert_barriers: add barriers in our circuit for nice looking\n",
        "    The function will return the circuit having the parameter and we can update these parameter in our code\n",
        "    \"\"\"\n",
        "    circuit = QuantumCircuit(number_qubits)\n",
        "\n",
        "\n",
        "    # Use for the 1-qubit case\n",
        "    if number_qubits == 1:\n",
        "\n",
        "        for i in range(0, number_qubits):\n",
        "                theta = Parameter(r'$\\theta[{}]$'.format(i))\n",
        "                circuit.ry(theta, i)\n",
        "                circuit.barrier()\n",
        "        for i in range(number_of_subcircuit):\n",
        "            theta1 = Parameter(r'$\\theta[{}]$'.format(1+i))\n",
        "            circuit.ry(theta1, 0)\n",
        "            if i != number_of_subcircuit - 1:\n",
        "                circuit.barrier()\n",
        "\n",
        "\n",
        "        return circuit\n",
        "\n",
        "\n",
        "    def add_subcircuit(circuit, stop_barrier):\n",
        "        sub_circuit = QuantumCircuit(number_qubits)\n",
        "        number_parameter = circuit.num_parameters\n",
        "\n",
        "        sub_circuit.barrier()\n",
        "\n",
        "        # sub_circuit.cx(number_qubits-1, 0)\n",
        "        for i in (range(number_qubits-1)):\n",
        "            sub_circuit.cx(i, i+1)\n",
        "\n",
        "        sub_circuit.barrier()\n",
        "\n",
        "\n",
        "        # hmm cause of lack of my knowledge, I will work with the RealAmplitudes ansat, circular entanglement\n",
        "        for i in range(0, number_qubits):\n",
        "            theta = Parameter(r'$\\theta[{}]$'.format(number_parameter+i))\n",
        "            sub_circuit.ry(theta, i)\n",
        "\n",
        "\n",
        "        # if stop_barrier != number_of_subcircuit-1:\n",
        "        #     sub_circuit.barrier()\n",
        "\n",
        "        # sub_circuit.draw('mpl', style = 'iqx')\n",
        "\n",
        "        return sub_circuit\n",
        "\n",
        "\n",
        "    for i in range(0, number_qubits):\n",
        "        theta = Parameter(r'$\\theta[{}]$'.format(i))\n",
        "        circuit.ry(theta, i)\n",
        "\n",
        "    # for i in range(0, number_qubits):\n",
        "    #     theta = Parameter(r'$\\theta[{}]$'.format(number_qubits+i))\n",
        "    #     circuit.rz(theta, i)\n",
        "\n",
        "    for i in range(number_of_subcircuit):\n",
        "        circuit = circuit.compose(add_subcircuit(circuit, i))\n",
        "\n",
        "    return circuit"
      ]
    },
    {
      "cell_type": "code",
      "execution_count": 2,
      "metadata": {
        "colab": {
          "base_uri": "https://localhost:8080/"
        },
        "id": "NEqO4wwzK8T6",
        "outputId": "0027811b-458b-40aa-9a6b-9d77dbe54a5f"
      },
      "outputs": [],
      "source": [
        "# Parameter shift rule\n",
        "def Customize_Parameter_Shift_Rule(operator, parameter, eta, ansatz, shots, backend, interation, estimator):\n",
        "    \"\"\"\n",
        "    operator: The pauli operator\n",
        "    parameter: the initial point that we will update until we end up with the desired point\n",
        "    ansatz: the parameterized circuit that we want to update\n",
        "    eta: learning rate\n",
        "    \"\"\"\n",
        "    number_of_parameters = len(parameter)\n",
        "    grad = np.zeros(number_of_parameters)\n",
        "\n",
        "\n",
        "    for i in range(len(operator)):\n",
        "        grad_func = np.zeros(number_of_parameters)\n",
        "        for j in range(number_of_parameters):\n",
        "            plus_parameter = parameter.copy()\n",
        "            plus_parameter[j] += np.pi/2\n",
        "            minus_parameter = parameter.copy()\n",
        "            minus_parameter[j] -= np.pi/2\n",
        "            plus_circuit = ansatz.bind_parameters({theta: plus_parameter[k] for k, theta in enumerate(ansatz.parameters)})\n",
        "            minus_circuit = ansatz.bind_parameters({theta: minus_parameter[k] for k, theta in enumerate(ansatz.parameters)})\n",
        "            # print(plus_circuit)\n",
        "            # print(minus_circuit)\n",
        "            grad_func[j] = (eta)*operator.coeffs.real[i]*(estimator.run(plus_circuit, operator.primitive._pauli_list[i], shots=shots).result().values[0] - estimator.run(minus_circuit, (operator.primitive._pauli_list[i]), shots=shots).result().values[0])/2\n",
        "\n",
        "        grad = np.add(grad, grad_func)\n",
        "\n",
        "    return np.array(grad)\n",
        "\n",
        "\n",
        "def Customize_Variational_Quantum_EigenSolver(operator, optimize, interation, ansatz, eta, initial_point, shots, backend, estimator, callback):\n",
        "    \"\"\"\n",
        "    operator: the pauli matrix\n",
        "    interation: number of interations\n",
        "    ansatz: the ansatz for perparing the parameterized circuit\n",
        "    eta: learning rate\n",
        "    initial_points: random sample of number uses at the beggining of running\n",
        "    shots: number of shots\n",
        "    backend: the backend\n",
        "    \"\"\"\n",
        "\n",
        "    energy = []\n",
        "\n",
        "    internal_initial_point = initial_point.copy()\n",
        "\n",
        "    b = np.zeros(ansatz.num_parameters)\n",
        "\n",
        "    for i in range(interation):\n",
        "        print(f'{internal_initial_point} ---------')\n",
        "        internal_anstaz = ansatz.bind_parameters({theta: internal_initial_point[k] for k, theta in enumerate(ansatz.parameters)})\n",
        "\n",
        "        # print(internal_anstaz)\n",
        "        # Measure the expectation of our hamiltonian\n",
        "        # internal_energy = 0\n",
        "        # for j in range(len(operator)):\n",
        "        #     internal_energy += operator.coeffs.real[j] * Measurement(str(operator.primitive._pauli_list[j]), internal_anstaz, shots, backend)[0]\n",
        "        #     print(internal_energy)\n",
        "        internal_energy = estimator.run(internal_anstaz, operator, shots=shots).result().values[0]\n",
        "            # print( operator.coeffs.real[j])\n",
        "            # print(operator.primitive._pauli_list[j])\n",
        "            # print(internal_energy)\n",
        "\n",
        "            # measure = Measurement('X', internal_anstaz, 10000, backend=Aer.get_backend('qasm_simulator'))[0]*10\n",
        "            # print(f'///{measure}///')\n",
        "\n",
        "        # print(f'{internal_initial_point} hmm')\n",
        "\n",
        "        energy.append(internal_energy)\n",
        "        print(internal_energy)\n",
        "\n",
        "\n",
        "        if callback is not None:\n",
        "            callback(internal_initial_point, internal_energy)\n",
        "\n",
        "        # Update the parameter points\n",
        "        # if optimize == Customize_Quantum_Natural_Graident_Descent:\n",
        "        #     super_circuit = Seperate_Circuit_Apart(ansatz)\n",
        "        #     a = np.add(optimize(operator, internal_initial_point, eta, ansatz, shots, backend, interation, super_circuit), -0.9*b)\n",
        "        #     # b = a.copy()\n",
        "        #     internal_initial_point =  np.subtract(internal_initial_point,a)\n",
        "        #     # print(internal_energy)\n",
        "\n",
        "        #     continue\n",
        "\n",
        "        a = optimize(operator, internal_initial_point, eta, ansatz, shots, backend, interation, estimator)\n",
        "        # a = np.add(optimize(operator, internal_initial_point, eta, ansatz, shots, backend, interation), -0.9*b)\n",
        "        # b = a.copy()\n",
        "        internal_initial_point =  np.subtract(internal_initial_point,a)\n",
        "        # print(f'a: {a}')\n",
        "\n",
        "        # print(internal_energy)\n",
        "\n",
        "    if callback is None:\n",
        "        return energy\n",
        "\n",
        "\n",
        "from qiskit.opflow import Z, I, X\n",
        "from qiskit.quantum_info import Pauli, SparsePauliOp\n",
        "from qiskit.opflow.primitive_ops.pauli_sum_op import PauliSumOp\n",
        "import time\n",
        "\n",
        "# Ising hamiltonian\n",
        "def Ising_hamiltonian(num_qubits, h):\n",
        "    hamiltonian = 0\n",
        "\n",
        "    if num_qubits == 1:\n",
        "        hamiltonian = Z + h*X\n",
        "        return hamiltonian.reduce()\n",
        "\n",
        "    if num_qubits == 2:\n",
        "        hamiltonian = Z^Z\n",
        "        hamiltonian += h*X^I\n",
        "        hamiltonian += h*I^X\n",
        "        return hamiltonian.reduce()\n",
        "\n",
        "\n",
        "\n",
        "    hamiltonian += Z^(I^(num_qubits-2))^Z\n",
        "    for i in range(num_qubits-1):\n",
        "        hamiltonian += (I^(i))^(Z^Z)^(I^(num_qubits-2-i))\n",
        "\n",
        "    for i in range(num_qubits):\n",
        "        hamiltonian += h*((I^(i))^(X)^(I^(num_qubits-1-i)))\n",
        "\n",
        "    return hamiltonian.reduce()"
      ]
    },
    {
      "cell_type": "code",
      "execution_count": 3,
      "metadata": {
        "id": "fyQjmGrTJtGo"
      },
      "outputs": [],
      "source": [
        "# from qiskit.opflow import Z, I, X\n",
        "# from qiskit.quantum_info import Pauli, SparsePauliOp\n",
        "# from qiskit.opflow.primitive_ops.pauli_sum_op import PauliSumOp\n",
        "# import time\n",
        "\n",
        "# start_time = time.time()\n",
        "\n",
        "# num_qubits = 1 # (N_p = num_qubit-1)\n",
        "\n",
        "\n",
        "# intermediate_info = {\n",
        "#     'parameters': [],\n",
        "#     'energy': [],\n",
        "# }\n",
        "\n",
        "# def callback(parameters, energy):\n",
        "#     intermediate_info['parameters'].append(parameters)\n",
        "#     intermediate_info['energy'].append(energy)\n",
        "\n",
        "# hamiltonian = Ising_hamiltonian(1,2)\n",
        "# hamiltonian = (hamiltonian^I^I^I^I).reduce()\n",
        "\n",
        "# ansatz = Customize_EfficientSU2(1, 0)\n",
        "# ansatz_opt = transpile(ansatz, backend=backend)\n",
        "# # ansatz_opt.draw()\n",
        "\n",
        "# interation = 20\n",
        "# hamiltonian = Ising_hamiltonian(1,2)\n",
        "# # hamiltonian = (hamiltonian^I^I^I^I).reduce()\n",
        "\n",
        "# initial_point = np.zeros(ansatz_opt.num_parameters)+0.5\n",
        "\n",
        "# backend = provider.get_backend(\"ibmq_qasm_simulator\")\n",
        "# eta = 0.1\n",
        "# shots = 8192\n",
        "\n",
        "# # from qiskit import Aer\n",
        "\n",
        "# energy = Customize_Variational_Quantum_EigenSolver(hamiltonian, Customize_Parameter_Shift_Rule, interation, ansatz_opt, eta, initial_point, shots, backend, callback=None)\n",
        "\n",
        "# print(time.time() - start_time)\n",
        "\n",
        "# # print(VQE_runtime[-1])"
      ]
    },
    {
      "attachments": {},
      "cell_type": "markdown",
      "metadata": {
        "id": "7AfDXH84qdms"
      },
      "source": [
        "# Test"
      ]
    },
    {
      "cell_type": "code",
      "execution_count": 8,
      "metadata": {
        "id": "jsCTLJ1OLcoI"
      },
      "outputs": [],
      "source": [
        "from qiskit_ibm_provider import IBMProvider\n",
        "IBMProvider.save_account(token='081573a72593a0b5c2ffb1bfa2128ac29452fee91b33f7cf134b4c9b49353d495322f295acbc04200e3be4124025261972d3c8568d7d086e67178403d0ee110b', overwrite=True)\n",
        "# lima = provider.get_backend(\"ibmq_lima\")"
      ]
    },
    {
      "cell_type": "code",
      "execution_count": 12,
      "metadata": {},
      "outputs": [],
      "source": [
        "ansatz_opt = transpile(Customize_RealAmplidues(2, 1), backend=backend, initial_layout=q_layout)\n",
        "\n",
        "ansatz_opt.draw('mpl', style = 'iqx')"
      ]
    },
    {
      "cell_type": "code",
      "execution_count": 14,
      "metadata": {
        "colab": {
          "base_uri": "https://localhost:8080/"
        },
        "id": "rldy_5_6BpFP",
        "outputId": "eef6aacc-f642-4a36-d921-d376894167fc"
      },
      "outputs": [
        {
          "name": "stdout",
          "output_type": "stream",
          "text": [
            "[ 0.80018395 -1.83648008 -0.73304282  0.15711315] ---------\n"
          ]
        },
        {
          "name": "stderr",
          "output_type": "stream",
          "text": [
            "runtime_job._start_websocket_client:WARNING:2023-07-03 01:19:37,825: An error occurred while streaming results from the server for job cigrtpup0prapsh6mhe0:\n",
            "Traceback (most recent call last):\n",
            "  File \"d:\\Users\\DELL\\anaconda3\\lib\\site-packages\\qiskit_ibm_runtime\\runtime_job.py\", line 503, in _start_websocket_client\n",
            "    self._ws_client.job_results()\n",
            "  File \"d:\\Users\\DELL\\anaconda3\\lib\\site-packages\\qiskit_ibm_runtime\\api\\clients\\runtime_ws.py\", line 70, in job_results\n",
            "    self.stream(url=url, retries=max_retries, backoff_factor=backoff_factor)\n",
            "  File \"d:\\Users\\DELL\\anaconda3\\lib\\site-packages\\qiskit_ibm_runtime\\api\\clients\\base.py\", line 230, in stream\n",
            "    raise WebsocketError(error_message)\n",
            "qiskit_ibm_runtime.api.exceptions.WebsocketError: 'Max retries exceeded: Failed to establish a websocket connection.'\n",
            "\n"
          ]
        },
        {
          "name": "stdout",
          "output_type": "stream",
          "text": [
            "-4.043618681686924\n"
          ]
        }
      ],
      "source": [
        "from qiskit_ibm_runtime import Session, Estimator\n",
        "from qiskit_ibm_runtime import QiskitRuntimeService\n",
        "from qiskit import QuantumCircuit, transpile\n",
        "import numpy as np\n",
        "\n",
        "provider = IBMProvider()\n",
        "# backend = provider.get_backend(\"ibmq_qasm_simulator\")\n",
        "\n",
        "service = QiskitRuntimeService(channel=\"ibm_quantum\")\n",
        "backend = service.backend(\"ibmq_lima\")\n",
        "\n",
        "# backend = provider.get_backend(\"ibmq_qasm_simulator\")\n",
        "\n",
        "\n",
        "intermediate_info = {\n",
        "    'parameters': [],\n",
        "    'energy': [],\n",
        "}\n",
        "\n",
        "def callback(parameters, energy):\n",
        "    intermediate_info['parameters'].append(parameters)\n",
        "    intermediate_info['energy'].append(energy)\n",
        "\n",
        "\n",
        "with Session(backend=backend): #, max_time=\"8h\"\n",
        "    estimator = Estimator()\n",
        "\n",
        "    #5.1 ansatz =\n",
        "    q_layout = [0,1]\n",
        "    ansatz_opt = transpile(Customize_RealAmplidues(2, 1), backend=backend, initial_layout=q_layout)\n",
        "    # print(ansatz_opt)\n",
        "    # ansatz_opt = transpile(Customize_EfficientSU2(1, 0), backend=backend)\n",
        "    # ansatz_opt.draw()\n",
        "\n",
        "    interation = 7\n",
        "    hamiltonian = Ising_hamiltonian(2,2)\n",
        "    hamiltonian = (I^I^I^hamiltonian).reduce()\n",
        "\n",
        "    eta = 0.2\n",
        "\n",
        "    shots = 40000\n",
        "    # hamiltonian = (hamiltonian^I^I^I^I).reduce()\n",
        "\n",
        "#     initial_point = np.zeros(ansatz_opt.num_parameters)+0.5\n",
        "    \n",
        "    initial_point = np.array([0.80018395, -1.83648008, -0.73304282, 0.15711315])\n",
        "\n",
        "\n",
        "    energy = Customize_Variational_Quantum_EigenSolver(hamiltonian, Customize_Parameter_Shift_Rule, interation, ansatz_opt, eta, initial_point, shots, backend, estimator, callback)\n"
      ]
    },
    {
      "cell_type": "code",
      "execution_count": null,
      "metadata": {
        "colab": {
          "base_uri": "https://localhost:8080/",
          "height": 447
        },
        "id": "M7g2CoTw3_RM",
        "outputId": "0610c191-b0b3-4e30-9393-a8dc476c9ef1"
      },
      "outputs": [
        {
          "data": {
            "text/plain": [
              "[<matplotlib.lines.Line2D at 0x7f869c645ba0>]"
            ]
          },
          "execution_count": 75,
          "metadata": {},
          "output_type": "execute_result"
        },
        {
          "data": {
            "image/png": "[encoded data removed]",
            "text/plain": [
              "<Figure size 640x480 with 1 Axes>"
            ]
          },
          "metadata": {},
          "output_type": "display_data"
        }
      ],
      "source": [
        "import matplotlib.pyplot as plt\n",
        "plt.plot(energy)"
      ]
    },
    {
      "cell_type": "code",
      "execution_count": 17,
      "metadata": {},
      "outputs": [
        {
          "name": "stdout",
          "output_type": "stream",
          "text": [
            "[-0.9100922917207371, -2.274116469038208, -2.874361586638831, -3.109313899010932, -3.1383436619718306, -3.1962176455096127, -3.176076943072524, -3.1869167544783985, -3.1410474655575773, -3.1874060822898027, -3.147916783398184, -3.1703811616954476, -3.1584806722689076, -3.1685836373110994]\n"
          ]
        }
      ],
      "source": [
        "print((intermediate_info['energy']))"
      ]
    },
    {
      "cell_type": "code",
      "execution_count": 16,
      "metadata": {},
      "outputs": [
        {
          "data": {
            "text/plain": [
              "[array([1.91359098, 4.52503097]),\n",
              " array([2.06491969, 3.96925581]),\n",
              " array([2.05323938, 3.58864739]),\n",
              " array([1.97796581, 3.36790158]),\n",
              " array([1.92493436, 3.25202545]),\n",
              " array([1.89419995, 3.19016349]),\n",
              " array([1.89288596, 3.16860367]),\n",
              " array([1.89283529, 3.15697702]),\n",
              " array([1.89651893, 3.15337465]),\n",
              " array([1.88774032, 3.1500057 ]),\n",
              " array([1.87997116, 3.14765817]),\n",
              " array([1.88526257, 3.14764184]),\n",
              " array([1.88529172, 3.14598673]),\n",
              " array([1.89172839, 3.15058531])]"
            ]
          },
          "execution_count": 16,
          "metadata": {},
          "output_type": "execute_result"
        }
      ],
      "source": [
        "intermediate_info['parameters']"
      ]
    },
    {
      "cell_type": "code",
      "execution_count": 15,
      "metadata": {},
      "outputs": [
        {
          "ename": "NameError",
          "evalue": "name 'data' is not defined",
          "output_type": "error",
          "traceback": [
            "\u001b[1;31m---------------------------------------------------------------------------\u001b[0m",
            "\u001b[1;31mNameError\u001b[0m                                 Traceback (most recent call last)",
            "Cell \u001b[1;32mIn[15], line 1\u001b[0m\n\u001b[1;32m----> 1\u001b[0m data[\u001b[39m1\u001b[39m]\n",
            "\u001b[1;31mNameError\u001b[0m: name 'data' is not defined"
          ]
        }
      ],
      "source": []
    }
  ],
  "metadata": {
    "colab": {
      "provenance": []
    },
    "kernelspec": {
      "display_name": "Python 3",
      "name": "python3"
    },
    "language_info": {
      "codemirror_mode": {
        "name": "ipython",
        "version": 3
      },
      "file_extension": ".py",
      "mimetype": "text/x-python",
      "name": "python",
      "nbconvert_exporter": "python",
      "pygments_lexer": "ipython3",
      "version": "3.8.16"
    }
  },
  "nbformat": 4,
  "nbformat_minor": 0
}
